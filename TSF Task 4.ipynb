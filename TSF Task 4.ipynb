{
 "cells": [
  {
   "cell_type": "markdown",
   "id": "6263ed28",
   "metadata": {},
   "source": [
    "# Exploratory Data Analysis - Terrorism"
   ]
  },
  {
   "cell_type": "markdown",
   "id": "9a8d6c32",
   "metadata": {},
   "source": [
    "## By -  Mohamed Ashraf Ali K\n",
    "## GRIP @ The Sparks Foundation"
   ]
  },
  {
   "cell_type": "markdown",
   "id": "d2276d49",
   "metadata": {},
   "source": [
    "# Importing Libraries and Dataset"
   ]
  },
  {
   "cell_type": "code",
   "execution_count": 15,
   "id": "0d544af8",
   "metadata": {},
   "outputs": [],
   "source": [
    "import pandas as pd\n",
    "import matplotlib.pyplot as plt\n",
    "import seaborn as sns\n",
    "plt.style.use('ggplot')"
   ]
  },
  {
   "cell_type": "code",
   "execution_count": 5,
   "id": "8c0cd2a3",
   "metadata": {},
   "outputs": [
    {
     "name": "stderr",
     "output_type": "stream",
     "text": [
      "C:\\Users\\91989\\AppData\\Local\\Temp\\ipykernel_18096\\866928933.py:1: DtypeWarning: Columns (4,6,31,33,61,62,63,76,79,90,92,94,96,114,115,121) have mixed types. Specify dtype option on import or set low_memory=False.\n",
      "  df = pd.read_csv('4.csv',encoding='latin1')\n"
     ]
    }
   ],
   "source": [
    "df = pd.read_csv('4.csv',encoding='latin1')"
   ]
  },
  {
   "cell_type": "code",
   "execution_count": 6,
   "id": "b675b18c",
   "metadata": {},
   "outputs": [
    {
     "data": {
      "text/html": [
       "<div>\n",
       "<style scoped>\n",
       "    .dataframe tbody tr th:only-of-type {\n",
       "        vertical-align: middle;\n",
       "    }\n",
       "\n",
       "    .dataframe tbody tr th {\n",
       "        vertical-align: top;\n",
       "    }\n",
       "\n",
       "    .dataframe thead th {\n",
       "        text-align: right;\n",
       "    }\n",
       "</style>\n",
       "<table border=\"1\" class=\"dataframe\">\n",
       "  <thead>\n",
       "    <tr style=\"text-align: right;\">\n",
       "      <th></th>\n",
       "      <th>eventid</th>\n",
       "      <th>iyear</th>\n",
       "      <th>imonth</th>\n",
       "      <th>iday</th>\n",
       "      <th>approxdate</th>\n",
       "      <th>extended</th>\n",
       "      <th>resolution</th>\n",
       "      <th>country</th>\n",
       "      <th>country_txt</th>\n",
       "      <th>region</th>\n",
       "      <th>...</th>\n",
       "      <th>addnotes</th>\n",
       "      <th>scite1</th>\n",
       "      <th>scite2</th>\n",
       "      <th>scite3</th>\n",
       "      <th>dbsource</th>\n",
       "      <th>INT_LOG</th>\n",
       "      <th>INT_IDEO</th>\n",
       "      <th>INT_MISC</th>\n",
       "      <th>INT_ANY</th>\n",
       "      <th>related</th>\n",
       "    </tr>\n",
       "  </thead>\n",
       "  <tbody>\n",
       "    <tr>\n",
       "      <th>0</th>\n",
       "      <td>197000000001</td>\n",
       "      <td>1970</td>\n",
       "      <td>7</td>\n",
       "      <td>2</td>\n",
       "      <td>NaN</td>\n",
       "      <td>0</td>\n",
       "      <td>NaN</td>\n",
       "      <td>58</td>\n",
       "      <td>Dominican Republic</td>\n",
       "      <td>2</td>\n",
       "      <td>...</td>\n",
       "      <td>NaN</td>\n",
       "      <td>NaN</td>\n",
       "      <td>NaN</td>\n",
       "      <td>NaN</td>\n",
       "      <td>PGIS</td>\n",
       "      <td>0</td>\n",
       "      <td>0</td>\n",
       "      <td>0</td>\n",
       "      <td>0</td>\n",
       "      <td>NaN</td>\n",
       "    </tr>\n",
       "    <tr>\n",
       "      <th>1</th>\n",
       "      <td>197000000002</td>\n",
       "      <td>1970</td>\n",
       "      <td>0</td>\n",
       "      <td>0</td>\n",
       "      <td>NaN</td>\n",
       "      <td>0</td>\n",
       "      <td>NaN</td>\n",
       "      <td>130</td>\n",
       "      <td>Mexico</td>\n",
       "      <td>1</td>\n",
       "      <td>...</td>\n",
       "      <td>NaN</td>\n",
       "      <td>NaN</td>\n",
       "      <td>NaN</td>\n",
       "      <td>NaN</td>\n",
       "      <td>PGIS</td>\n",
       "      <td>0</td>\n",
       "      <td>1</td>\n",
       "      <td>1</td>\n",
       "      <td>1</td>\n",
       "      <td>NaN</td>\n",
       "    </tr>\n",
       "    <tr>\n",
       "      <th>2</th>\n",
       "      <td>197001000001</td>\n",
       "      <td>1970</td>\n",
       "      <td>1</td>\n",
       "      <td>0</td>\n",
       "      <td>NaN</td>\n",
       "      <td>0</td>\n",
       "      <td>NaN</td>\n",
       "      <td>160</td>\n",
       "      <td>Philippines</td>\n",
       "      <td>5</td>\n",
       "      <td>...</td>\n",
       "      <td>NaN</td>\n",
       "      <td>NaN</td>\n",
       "      <td>NaN</td>\n",
       "      <td>NaN</td>\n",
       "      <td>PGIS</td>\n",
       "      <td>-9</td>\n",
       "      <td>-9</td>\n",
       "      <td>1</td>\n",
       "      <td>1</td>\n",
       "      <td>NaN</td>\n",
       "    </tr>\n",
       "    <tr>\n",
       "      <th>3</th>\n",
       "      <td>197001000002</td>\n",
       "      <td>1970</td>\n",
       "      <td>1</td>\n",
       "      <td>0</td>\n",
       "      <td>NaN</td>\n",
       "      <td>0</td>\n",
       "      <td>NaN</td>\n",
       "      <td>78</td>\n",
       "      <td>Greece</td>\n",
       "      <td>8</td>\n",
       "      <td>...</td>\n",
       "      <td>NaN</td>\n",
       "      <td>NaN</td>\n",
       "      <td>NaN</td>\n",
       "      <td>NaN</td>\n",
       "      <td>PGIS</td>\n",
       "      <td>-9</td>\n",
       "      <td>-9</td>\n",
       "      <td>1</td>\n",
       "      <td>1</td>\n",
       "      <td>NaN</td>\n",
       "    </tr>\n",
       "    <tr>\n",
       "      <th>4</th>\n",
       "      <td>197001000003</td>\n",
       "      <td>1970</td>\n",
       "      <td>1</td>\n",
       "      <td>0</td>\n",
       "      <td>NaN</td>\n",
       "      <td>0</td>\n",
       "      <td>NaN</td>\n",
       "      <td>101</td>\n",
       "      <td>Japan</td>\n",
       "      <td>4</td>\n",
       "      <td>...</td>\n",
       "      <td>NaN</td>\n",
       "      <td>NaN</td>\n",
       "      <td>NaN</td>\n",
       "      <td>NaN</td>\n",
       "      <td>PGIS</td>\n",
       "      <td>-9</td>\n",
       "      <td>-9</td>\n",
       "      <td>1</td>\n",
       "      <td>1</td>\n",
       "      <td>NaN</td>\n",
       "    </tr>\n",
       "  </tbody>\n",
       "</table>\n",
       "<p>5 rows × 135 columns</p>\n",
       "</div>"
      ],
      "text/plain": [
       "        eventid  iyear  imonth  iday approxdate  extended resolution  country  \\\n",
       "0  197000000001   1970       7     2        NaN         0        NaN       58   \n",
       "1  197000000002   1970       0     0        NaN         0        NaN      130   \n",
       "2  197001000001   1970       1     0        NaN         0        NaN      160   \n",
       "3  197001000002   1970       1     0        NaN         0        NaN       78   \n",
       "4  197001000003   1970       1     0        NaN         0        NaN      101   \n",
       "\n",
       "          country_txt  region  ... addnotes scite1 scite2  scite3  dbsource  \\\n",
       "0  Dominican Republic       2  ...      NaN    NaN    NaN     NaN      PGIS   \n",
       "1              Mexico       1  ...      NaN    NaN    NaN     NaN      PGIS   \n",
       "2         Philippines       5  ...      NaN    NaN    NaN     NaN      PGIS   \n",
       "3              Greece       8  ...      NaN    NaN    NaN     NaN      PGIS   \n",
       "4               Japan       4  ...      NaN    NaN    NaN     NaN      PGIS   \n",
       "\n",
       "   INT_LOG  INT_IDEO INT_MISC INT_ANY  related  \n",
       "0        0         0        0       0      NaN  \n",
       "1        0         1        1       1      NaN  \n",
       "2       -9        -9        1       1      NaN  \n",
       "3       -9        -9        1       1      NaN  \n",
       "4       -9        -9        1       1      NaN  \n",
       "\n",
       "[5 rows x 135 columns]"
      ]
     },
     "execution_count": 6,
     "metadata": {},
     "output_type": "execute_result"
    }
   ],
   "source": [
    "df.head(5)"
   ]
  },
  {
   "cell_type": "markdown",
   "id": "1450b70d",
   "metadata": {},
   "source": [
    "# Selecting a Subset of the Total Features"
   ]
  },
  {
   "cell_type": "code",
   "execution_count": 7,
   "id": "f036605b",
   "metadata": {},
   "outputs": [],
   "source": [
    "data = df[['country_txt','iyear','targtype1_txt','attacktype1_txt',\n",
    "         'weaptype1_txt','ransom','property','success']]"
   ]
  },
  {
   "cell_type": "markdown",
   "id": "4d7898c4",
   "metadata": {},
   "source": [
    "## Drop NaN Values and show Dataframe"
   ]
  },
  {
   "cell_type": "code",
   "execution_count": 8,
   "id": "96cd7342",
   "metadata": {},
   "outputs": [
    {
     "data": {
      "text/html": [
       "<div>\n",
       "<style scoped>\n",
       "    .dataframe tbody tr th:only-of-type {\n",
       "        vertical-align: middle;\n",
       "    }\n",
       "\n",
       "    .dataframe tbody tr th {\n",
       "        vertical-align: top;\n",
       "    }\n",
       "\n",
       "    .dataframe thead th {\n",
       "        text-align: right;\n",
       "    }\n",
       "</style>\n",
       "<table border=\"1\" class=\"dataframe\">\n",
       "  <thead>\n",
       "    <tr style=\"text-align: right;\">\n",
       "      <th></th>\n",
       "      <th>country_txt</th>\n",
       "      <th>iyear</th>\n",
       "      <th>targtype1_txt</th>\n",
       "      <th>attacktype1_txt</th>\n",
       "      <th>weaptype1_txt</th>\n",
       "      <th>ransom</th>\n",
       "      <th>property</th>\n",
       "      <th>success</th>\n",
       "    </tr>\n",
       "  </thead>\n",
       "  <tbody>\n",
       "    <tr>\n",
       "      <th>0</th>\n",
       "      <td>Dominican Republic</td>\n",
       "      <td>1970</td>\n",
       "      <td>Private Citizens &amp; Property</td>\n",
       "      <td>Assassination</td>\n",
       "      <td>Unknown</td>\n",
       "      <td>0.0</td>\n",
       "      <td>0</td>\n",
       "      <td>1</td>\n",
       "    </tr>\n",
       "    <tr>\n",
       "      <th>1</th>\n",
       "      <td>Mexico</td>\n",
       "      <td>1970</td>\n",
       "      <td>Government (Diplomatic)</td>\n",
       "      <td>Hostage Taking (Kidnapping)</td>\n",
       "      <td>Unknown</td>\n",
       "      <td>1.0</td>\n",
       "      <td>0</td>\n",
       "      <td>1</td>\n",
       "    </tr>\n",
       "    <tr>\n",
       "      <th>2</th>\n",
       "      <td>Philippines</td>\n",
       "      <td>1970</td>\n",
       "      <td>Journalists &amp; Media</td>\n",
       "      <td>Assassination</td>\n",
       "      <td>Unknown</td>\n",
       "      <td>0.0</td>\n",
       "      <td>0</td>\n",
       "      <td>1</td>\n",
       "    </tr>\n",
       "    <tr>\n",
       "      <th>3</th>\n",
       "      <td>Greece</td>\n",
       "      <td>1970</td>\n",
       "      <td>Government (Diplomatic)</td>\n",
       "      <td>Bombing/Explosion</td>\n",
       "      <td>Explosives</td>\n",
       "      <td>0.0</td>\n",
       "      <td>1</td>\n",
       "      <td>1</td>\n",
       "    </tr>\n",
       "    <tr>\n",
       "      <th>4</th>\n",
       "      <td>Japan</td>\n",
       "      <td>1970</td>\n",
       "      <td>Government (Diplomatic)</td>\n",
       "      <td>Facility/Infrastructure Attack</td>\n",
       "      <td>Incendiary</td>\n",
       "      <td>0.0</td>\n",
       "      <td>1</td>\n",
       "      <td>1</td>\n",
       "    </tr>\n",
       "  </tbody>\n",
       "</table>\n",
       "</div>"
      ],
      "text/plain": [
       "          country_txt  iyear                targtype1_txt  \\\n",
       "0  Dominican Republic   1970  Private Citizens & Property   \n",
       "1              Mexico   1970      Government (Diplomatic)   \n",
       "2         Philippines   1970          Journalists & Media   \n",
       "3              Greece   1970      Government (Diplomatic)   \n",
       "4               Japan   1970      Government (Diplomatic)   \n",
       "\n",
       "                  attacktype1_txt weaptype1_txt  ransom  property  success  \n",
       "0                   Assassination       Unknown     0.0         0        1  \n",
       "1     Hostage Taking (Kidnapping)       Unknown     1.0         0        1  \n",
       "2                   Assassination       Unknown     0.0         0        1  \n",
       "3               Bombing/Explosion    Explosives     0.0         1        1  \n",
       "4  Facility/Infrastructure Attack    Incendiary     0.0         1        1  "
      ]
     },
     "execution_count": 8,
     "metadata": {},
     "output_type": "execute_result"
    }
   ],
   "source": [
    "data.dropna()\n",
    "data.head(5)"
   ]
  },
  {
   "cell_type": "markdown",
   "id": "d68b2ad1",
   "metadata": {},
   "source": [
    "## Check for any Duplicates"
   ]
  },
  {
   "cell_type": "code",
   "execution_count": 9,
   "id": "87f98f66",
   "metadata": {},
   "outputs": [
    {
     "data": {
      "text/html": [
       "<div>\n",
       "<style scoped>\n",
       "    .dataframe tbody tr th:only-of-type {\n",
       "        vertical-align: middle;\n",
       "    }\n",
       "\n",
       "    .dataframe tbody tr th {\n",
       "        vertical-align: top;\n",
       "    }\n",
       "\n",
       "    .dataframe thead th {\n",
       "        text-align: right;\n",
       "    }\n",
       "</style>\n",
       "<table border=\"1\" class=\"dataframe\">\n",
       "  <thead>\n",
       "    <tr style=\"text-align: right;\">\n",
       "      <th></th>\n",
       "      <th>country_txt</th>\n",
       "      <th>iyear</th>\n",
       "      <th>targtype1_txt</th>\n",
       "      <th>attacktype1_txt</th>\n",
       "      <th>weaptype1_txt</th>\n",
       "      <th>ransom</th>\n",
       "      <th>property</th>\n",
       "      <th>success</th>\n",
       "    </tr>\n",
       "  </thead>\n",
       "  <tbody>\n",
       "    <tr>\n",
       "      <th>11</th>\n",
       "      <td>United States</td>\n",
       "      <td>1970</td>\n",
       "      <td>Military</td>\n",
       "      <td>Facility/Infrastructure Attack</td>\n",
       "      <td>Incendiary</td>\n",
       "      <td>0.0</td>\n",
       "      <td>1</td>\n",
       "      <td>1</td>\n",
       "    </tr>\n",
       "    <tr>\n",
       "      <th>13</th>\n",
       "      <td>United States</td>\n",
       "      <td>1970</td>\n",
       "      <td>Government (General)</td>\n",
       "      <td>Facility/Infrastructure Attack</td>\n",
       "      <td>Incendiary</td>\n",
       "      <td>0.0</td>\n",
       "      <td>1</td>\n",
       "      <td>1</td>\n",
       "    </tr>\n",
       "    <tr>\n",
       "      <th>19</th>\n",
       "      <td>United States</td>\n",
       "      <td>1970</td>\n",
       "      <td>Business</td>\n",
       "      <td>Facility/Infrastructure Attack</td>\n",
       "      <td>Incendiary</td>\n",
       "      <td>0.0</td>\n",
       "      <td>1</td>\n",
       "      <td>1</td>\n",
       "    </tr>\n",
       "    <tr>\n",
       "      <th>22</th>\n",
       "      <td>United States</td>\n",
       "      <td>1970</td>\n",
       "      <td>Educational Institution</td>\n",
       "      <td>Bombing/Explosion</td>\n",
       "      <td>Explosives</td>\n",
       "      <td>0.0</td>\n",
       "      <td>1</td>\n",
       "      <td>1</td>\n",
       "    </tr>\n",
       "    <tr>\n",
       "      <th>23</th>\n",
       "      <td>United States</td>\n",
       "      <td>1970</td>\n",
       "      <td>Military</td>\n",
       "      <td>Bombing/Explosion</td>\n",
       "      <td>Explosives</td>\n",
       "      <td>0.0</td>\n",
       "      <td>0</td>\n",
       "      <td>0</td>\n",
       "    </tr>\n",
       "    <tr>\n",
       "      <th>...</th>\n",
       "      <td>...</td>\n",
       "      <td>...</td>\n",
       "      <td>...</td>\n",
       "      <td>...</td>\n",
       "      <td>...</td>\n",
       "      <td>...</td>\n",
       "      <td>...</td>\n",
       "      <td>...</td>\n",
       "    </tr>\n",
       "    <tr>\n",
       "      <th>181685</th>\n",
       "      <td>Afghanistan</td>\n",
       "      <td>2017</td>\n",
       "      <td>Business</td>\n",
       "      <td>Bombing/Explosion</td>\n",
       "      <td>Explosives</td>\n",
       "      <td>NaN</td>\n",
       "      <td>1</td>\n",
       "      <td>1</td>\n",
       "    </tr>\n",
       "    <tr>\n",
       "      <th>181686</th>\n",
       "      <td>Somalia</td>\n",
       "      <td>2017</td>\n",
       "      <td>Military</td>\n",
       "      <td>Armed Assault</td>\n",
       "      <td>Firearms</td>\n",
       "      <td>NaN</td>\n",
       "      <td>-9</td>\n",
       "      <td>1</td>\n",
       "    </tr>\n",
       "    <tr>\n",
       "      <th>181687</th>\n",
       "      <td>Syria</td>\n",
       "      <td>2017</td>\n",
       "      <td>Military</td>\n",
       "      <td>Bombing/Explosion</td>\n",
       "      <td>Explosives</td>\n",
       "      <td>NaN</td>\n",
       "      <td>1</td>\n",
       "      <td>1</td>\n",
       "    </tr>\n",
       "    <tr>\n",
       "      <th>181688</th>\n",
       "      <td>Philippines</td>\n",
       "      <td>2017</td>\n",
       "      <td>Private Citizens &amp; Property</td>\n",
       "      <td>Facility/Infrastructure Attack</td>\n",
       "      <td>Incendiary</td>\n",
       "      <td>NaN</td>\n",
       "      <td>1</td>\n",
       "      <td>1</td>\n",
       "    </tr>\n",
       "    <tr>\n",
       "      <th>181690</th>\n",
       "      <td>Philippines</td>\n",
       "      <td>2017</td>\n",
       "      <td>Unknown</td>\n",
       "      <td>Bombing/Explosion</td>\n",
       "      <td>Explosives</td>\n",
       "      <td>NaN</td>\n",
       "      <td>0</td>\n",
       "      <td>0</td>\n",
       "    </tr>\n",
       "  </tbody>\n",
       "</table>\n",
       "<p>126546 rows × 8 columns</p>\n",
       "</div>"
      ],
      "text/plain": [
       "          country_txt  iyear                targtype1_txt  \\\n",
       "11      United States   1970                     Military   \n",
       "13      United States   1970         Government (General)   \n",
       "19      United States   1970                     Business   \n",
       "22      United States   1970      Educational Institution   \n",
       "23      United States   1970                     Military   \n",
       "...               ...    ...                          ...   \n",
       "181685    Afghanistan   2017                     Business   \n",
       "181686        Somalia   2017                     Military   \n",
       "181687          Syria   2017                     Military   \n",
       "181688    Philippines   2017  Private Citizens & Property   \n",
       "181690    Philippines   2017                      Unknown   \n",
       "\n",
       "                       attacktype1_txt weaptype1_txt  ransom  property  \\\n",
       "11      Facility/Infrastructure Attack    Incendiary     0.0         1   \n",
       "13      Facility/Infrastructure Attack    Incendiary     0.0         1   \n",
       "19      Facility/Infrastructure Attack    Incendiary     0.0         1   \n",
       "22                   Bombing/Explosion    Explosives     0.0         1   \n",
       "23                   Bombing/Explosion    Explosives     0.0         0   \n",
       "...                                ...           ...     ...       ...   \n",
       "181685               Bombing/Explosion    Explosives     NaN         1   \n",
       "181686                   Armed Assault      Firearms     NaN        -9   \n",
       "181687               Bombing/Explosion    Explosives     NaN         1   \n",
       "181688  Facility/Infrastructure Attack    Incendiary     NaN         1   \n",
       "181690               Bombing/Explosion    Explosives     NaN         0   \n",
       "\n",
       "        success  \n",
       "11            1  \n",
       "13            1  \n",
       "19            1  \n",
       "22            1  \n",
       "23            0  \n",
       "...         ...  \n",
       "181685        1  \n",
       "181686        1  \n",
       "181687        1  \n",
       "181688        1  \n",
       "181690        0  \n",
       "\n",
       "[126546 rows x 8 columns]"
      ]
     },
     "execution_count": 9,
     "metadata": {},
     "output_type": "execute_result"
    }
   ],
   "source": [
    "data.loc[data.duplicated()]"
   ]
  },
  {
   "cell_type": "markdown",
   "id": "04702e3f",
   "metadata": {},
   "source": [
    "##  Drop Duplicates"
   ]
  },
  {
   "cell_type": "code",
   "execution_count": 10,
   "id": "67e92aae",
   "metadata": {},
   "outputs": [
    {
     "data": {
      "text/html": [
       "<div>\n",
       "<style scoped>\n",
       "    .dataframe tbody tr th:only-of-type {\n",
       "        vertical-align: middle;\n",
       "    }\n",
       "\n",
       "    .dataframe tbody tr th {\n",
       "        vertical-align: top;\n",
       "    }\n",
       "\n",
       "    .dataframe thead th {\n",
       "        text-align: right;\n",
       "    }\n",
       "</style>\n",
       "<table border=\"1\" class=\"dataframe\">\n",
       "  <thead>\n",
       "    <tr style=\"text-align: right;\">\n",
       "      <th></th>\n",
       "      <th>country_txt</th>\n",
       "      <th>iyear</th>\n",
       "      <th>targtype1_txt</th>\n",
       "      <th>attacktype1_txt</th>\n",
       "      <th>weaptype1_txt</th>\n",
       "      <th>ransom</th>\n",
       "      <th>property</th>\n",
       "      <th>success</th>\n",
       "    </tr>\n",
       "  </thead>\n",
       "  <tbody>\n",
       "  </tbody>\n",
       "</table>\n",
       "</div>"
      ],
      "text/plain": [
       "Empty DataFrame\n",
       "Columns: [country_txt, iyear, targtype1_txt, attacktype1_txt, weaptype1_txt, ransom, property, success]\n",
       "Index: []"
      ]
     },
     "execution_count": 10,
     "metadata": {},
     "output_type": "execute_result"
    }
   ],
   "source": [
    "data = data.drop_duplicates()\n",
    "data.loc[data.duplicated()]"
   ]
  },
  {
   "cell_type": "markdown",
   "id": "a8e24b10",
   "metadata": {},
   "source": [
    "##  Miscellaneous Data Cleaning"
   ]
  },
  {
   "cell_type": "code",
   "execution_count": 11,
   "id": "daa51845",
   "metadata": {},
   "outputs": [
    {
     "data": {
      "text/plain": [
       " 0.0    26866\n",
       " 1.0      969\n",
       "-9.0      881\n",
       "Name: ransom, dtype: int64"
      ]
     },
     "execution_count": 11,
     "metadata": {},
     "output_type": "execute_result"
    }
   ],
   "source": [
    "data['ransom'].value_counts()"
   ]
  },
  {
   "cell_type": "code",
   "execution_count": 9,
   "id": "98bee309",
   "metadata": {},
   "outputs": [
    {
     "data": {
      "text/html": [
       "<div>\n",
       "<style scoped>\n",
       "    .dataframe tbody tr th:only-of-type {\n",
       "        vertical-align: middle;\n",
       "    }\n",
       "\n",
       "    .dataframe tbody tr th {\n",
       "        vertical-align: top;\n",
       "    }\n",
       "\n",
       "    .dataframe thead th {\n",
       "        text-align: right;\n",
       "    }\n",
       "</style>\n",
       "<table border=\"1\" class=\"dataframe\">\n",
       "  <thead>\n",
       "    <tr style=\"text-align: right;\">\n",
       "      <th></th>\n",
       "      <th>country_txt</th>\n",
       "      <th>iyear</th>\n",
       "      <th>targtype1_txt</th>\n",
       "      <th>attacktype1_txt</th>\n",
       "      <th>weaptype1_txt</th>\n",
       "      <th>ransom</th>\n",
       "      <th>property</th>\n",
       "      <th>success</th>\n",
       "    </tr>\n",
       "  </thead>\n",
       "  <tbody>\n",
       "    <tr>\n",
       "      <th>0</th>\n",
       "      <td>Dominican Republic</td>\n",
       "      <td>1970</td>\n",
       "      <td>Private Citizens &amp; Property</td>\n",
       "      <td>Assassination</td>\n",
       "      <td>Unknown</td>\n",
       "      <td>0.0</td>\n",
       "      <td>0</td>\n",
       "      <td>1</td>\n",
       "    </tr>\n",
       "    <tr>\n",
       "      <th>1</th>\n",
       "      <td>Mexico</td>\n",
       "      <td>1970</td>\n",
       "      <td>Government (Diplomatic)</td>\n",
       "      <td>Hostage Taking (Kidnapping)</td>\n",
       "      <td>Unknown</td>\n",
       "      <td>1.0</td>\n",
       "      <td>0</td>\n",
       "      <td>1</td>\n",
       "    </tr>\n",
       "    <tr>\n",
       "      <th>2</th>\n",
       "      <td>Philippines</td>\n",
       "      <td>1970</td>\n",
       "      <td>Journalists &amp; Media</td>\n",
       "      <td>Assassination</td>\n",
       "      <td>Unknown</td>\n",
       "      <td>0.0</td>\n",
       "      <td>0</td>\n",
       "      <td>1</td>\n",
       "    </tr>\n",
       "    <tr>\n",
       "      <th>3</th>\n",
       "      <td>Greece</td>\n",
       "      <td>1970</td>\n",
       "      <td>Government (Diplomatic)</td>\n",
       "      <td>Bombing/Explosion</td>\n",
       "      <td>Explosives</td>\n",
       "      <td>0.0</td>\n",
       "      <td>1</td>\n",
       "      <td>1</td>\n",
       "    </tr>\n",
       "    <tr>\n",
       "      <th>4</th>\n",
       "      <td>Japan</td>\n",
       "      <td>1970</td>\n",
       "      <td>Government (Diplomatic)</td>\n",
       "      <td>Facility/Infrastructure Attack</td>\n",
       "      <td>Incendiary</td>\n",
       "      <td>0.0</td>\n",
       "      <td>1</td>\n",
       "      <td>1</td>\n",
       "    </tr>\n",
       "  </tbody>\n",
       "</table>\n",
       "</div>"
      ],
      "text/plain": [
       "          country_txt  iyear                targtype1_txt  \\\n",
       "0  Dominican Republic   1970  Private Citizens & Property   \n",
       "1              Mexico   1970      Government (Diplomatic)   \n",
       "2         Philippines   1970          Journalists & Media   \n",
       "3              Greece   1970      Government (Diplomatic)   \n",
       "4               Japan   1970      Government (Diplomatic)   \n",
       "\n",
       "                  attacktype1_txt weaptype1_txt  ransom  property  success  \n",
       "0                   Assassination       Unknown     0.0         0        1  \n",
       "1     Hostage Taking (Kidnapping)       Unknown     1.0         0        1  \n",
       "2                   Assassination       Unknown     0.0         0        1  \n",
       "3               Bombing/Explosion    Explosives     0.0         1        1  \n",
       "4  Facility/Infrastructure Attack    Incendiary     0.0         1        1  "
      ]
     },
     "execution_count": 9,
     "metadata": {},
     "output_type": "execute_result"
    }
   ],
   "source": [
    "data = data.drop(data.query('ransom == -9').index)\n",
    "data.head()"
   ]
  },
  {
   "cell_type": "code",
   "execution_count": 12,
   "id": "f4088e07",
   "metadata": {},
   "outputs": [
    {
     "data": {
      "text/plain": [
       " 0.0    26866\n",
       " 1.0      969\n",
       "-9.0      881\n",
       "Name: ransom, dtype: int64"
      ]
     },
     "execution_count": 12,
     "metadata": {},
     "output_type": "execute_result"
    }
   ],
   "source": [
    "data['ransom'].value_counts()"
   ]
  },
  {
   "cell_type": "markdown",
   "id": "3bf8a761",
   "metadata": {},
   "source": [
    "#  Attack Frequency vs Years"
   ]
  },
  {
   "cell_type": "code",
   "execution_count": 13,
   "id": "47de1119",
   "metadata": {},
   "outputs": [
    {
     "data": {
      "text/plain": [
       "[Text(0.5, 1.0, 'Total Attack Distribution ')]"
      ]
     },
     "execution_count": 13,
     "metadata": {},
     "output_type": "execute_result"
    },
    {
     "data": {
      "image/png": "[encoded data removed]",
      "text/plain": [
       "<Figure size 432x288 with 1 Axes>"
      ]
     },
     "metadata": {},
     "output_type": "display_data"
    }
   ],
   "source": [
    "sns.histplot(data = data['iyear'], kde = True).set( title=\"Total Attack Distribution \") "
   ]
  },
  {
   "cell_type": "markdown",
   "id": "583b4343",
   "metadata": {},
   "source": [
    "## Successful Attack Frequency Distirbution"
   ]
  },
  {
   "cell_type": "code",
   "execution_count": 14,
   "id": "4b3c88cf",
   "metadata": {},
   "outputs": [
    {
     "data": {
      "text/plain": [
       "[Text(0.5, 1.0, 'Total Success Distribution ')]"
      ]
     },
     "execution_count": 14,
     "metadata": {},
     "output_type": "execute_result"
    },
    {
     "data": {
      "image/png": "[encoded data removed]",
      "text/plain": [
       "<Figure size 432x288 with 1 Axes>"
      ]
     },
     "metadata": {},
     "output_type": "display_data"
    }
   ],
   "source": [
    "d = data.query('success == 1')\n",
    "sns.histplot(data = d['iyear'], kde = True).set( title=\"Total Success Distribution \") "
   ]
  },
  {
   "cell_type": "code",
   "execution_count": 16,
   "id": "d6ea5810",
   "metadata": {},
   "outputs": [
    {
     "data": {
      "text/plain": [
       "Bombing/Explosion                      14908\n",
       "Armed Assault                          11118\n",
       "Assassination                           5884\n",
       "Hostage Taking (Kidnapping)             5732\n",
       "Facility/Infrastructure Attack          4086\n",
       "Unknown                                 2535\n",
       "Hostage Taking (Barricade Incident)      720\n",
       "Unarmed Assault                          604\n",
       "Hijacking                                523\n",
       "Name: attacktype1_txt, dtype: int64"
      ]
     },
     "execution_count": 16,
     "metadata": {},
     "output_type": "execute_result"
    }
   ],
   "source": [
    "(d['attacktype1_txt'].value_counts())"
   ]
  },
  {
   "cell_type": "code",
   "execution_count": 17,
   "id": "8910c7c9",
   "metadata": {},
   "outputs": [
    {
     "data": {
      "text/plain": [
       "Bombing/Explosion                      79.987123\n",
       "Armed Assault                          90.766593\n",
       "Assassination                          66.871235\n",
       "Hostage Taking (Kidnapping)            95.933054\n",
       "Facility/Infrastructure Attack         90.901001\n",
       "Unknown                                85.439838\n",
       "Hostage Taking (Barricade Incident)    98.901099\n",
       "Unarmed Assault                        87.031700\n",
       "Hijacking                              87.166667\n",
       "Name: attacktype1_txt, dtype: float64"
      ]
     },
     "execution_count": 17,
     "metadata": {},
     "output_type": "execute_result"
    }
   ],
   "source": [
    "(d['attacktype1_txt'].value_counts())*100/(data['attacktype1_txt'].value_counts())"
   ]
  },
  {
   "cell_type": "code",
   "execution_count": 18,
   "id": "643b7a08",
   "metadata": {},
   "outputs": [
    {
     "data": {
      "text/plain": [
       "Afghanistan     85.153215\n",
       "Albania         76.271186\n",
       "Algeria         88.809311\n",
       "Andorra        100.000000\n",
       "Angola          94.758065\n",
       "                  ...    \n",
       "Yemen           78.141136\n",
       "Yugoslavia      85.156250\n",
       "Zaire           92.500000\n",
       "Zambia          90.697674\n",
       "Zimbabwe        94.186047\n",
       "Name: country_txt, Length: 205, dtype: float64"
      ]
     },
     "execution_count": 18,
     "metadata": {},
     "output_type": "execute_result"
    }
   ],
   "source": [
    "(d['country_txt'].value_counts())*100/(data['country_txt'].value_counts())"
   ]
  },
  {
   "cell_type": "markdown",
   "id": "3a6d9134",
   "metadata": {},
   "source": [
    "##  Unsuccessful Attack Frequency Distirbution"
   ]
  },
  {
   "cell_type": "code",
   "execution_count": 19,
   "id": "72264bbb",
   "metadata": {},
   "outputs": [
    {
     "data": {
      "text/plain": [
       "[Text(0.5, 1.0, 'Total Failure Distribution ')]"
      ]
     },
     "execution_count": 19,
     "metadata": {},
     "output_type": "execute_result"
    },
    {
     "data": {
      "image/png": "[encoded data removed]",
      "text/plain": [
       "<Figure size 432x288 with 1 Axes>"
      ]
     },
     "metadata": {},
     "output_type": "display_data"
    }
   ],
   "source": [
    "d = data.query('success == 0')\n",
    "sns.histplot(data = d['iyear'], kde = True).set( title=\"Total Failure Distribution \") "
   ]
  },
  {
   "cell_type": "code",
   "execution_count": 20,
   "id": "f0c46196",
   "metadata": {},
   "outputs": [
    {
     "data": {
      "text/plain": [
       "Armed Assault                           9.233407\n",
       "Assassination                          33.128765\n",
       "Bombing/Explosion                      20.012877\n",
       "Facility/Infrastructure Attack          9.098999\n",
       "Hijacking                              12.833333\n",
       "Hostage Taking (Barricade Incident)     1.098901\n",
       "Hostage Taking (Kidnapping)             4.066946\n",
       "Unarmed Assault                        12.968300\n",
       "Unknown                                14.560162\n",
       "Name: attacktype1_txt, dtype: float64"
      ]
     },
     "execution_count": 20,
     "metadata": {},
     "output_type": "execute_result"
    }
   ],
   "source": [
    "(d['attacktype1_txt'].value_counts())*100/(data['attacktype1_txt'].value_counts())"
   ]
  },
  {
   "cell_type": "code",
   "execution_count": 21,
   "id": "2350eb13",
   "metadata": {},
   "outputs": [
    {
     "data": {
      "text/plain": [
       "Afghanistan    14.846785\n",
       "Albania        23.728814\n",
       "Algeria        11.190689\n",
       "Andorra              NaN\n",
       "Angola          5.241935\n",
       "                 ...    \n",
       "Yemen          21.858864\n",
       "Yugoslavia     14.843750\n",
       "Zaire           7.500000\n",
       "Zambia          9.302326\n",
       "Zimbabwe        5.813953\n",
       "Name: country_txt, Length: 205, dtype: float64"
      ]
     },
     "execution_count": 21,
     "metadata": {},
     "output_type": "execute_result"
    }
   ],
   "source": [
    "(d['country_txt'].value_counts())*100/(data['country_txt'].value_counts())"
   ]
  },
  {
   "cell_type": "markdown",
   "id": "14ea0c85",
   "metadata": {},
   "source": [
    "# Major Terrorist Target Types"
   ]
  },
  {
   "cell_type": "markdown",
   "id": "fb550042",
   "metadata": {},
   "source": [
    "##  Targets Before the Year 2000"
   ]
  },
  {
   "cell_type": "code",
   "execution_count": 22,
   "id": "c09cf2c4",
   "metadata": {},
   "outputs": [
    {
     "data": {
      "text/plain": [
       "Abortion Related                  78.787879\n",
       "Airports & Aircraft               72.787821\n",
       "Business                          54.719119\n",
       "Educational Institution           40.948943\n",
       "Food or Water Supply              47.389558\n",
       "Government (Diplomatic)           64.238135\n",
       "Government (General)              46.217314\n",
       "Journalists & Media               49.824032\n",
       "Maritime                          57.491289\n",
       "Military                          39.878578\n",
       "NGO                               32.603093\n",
       "Other                             15.384615\n",
       "Police                            39.440244\n",
       "Private Citizens & Property       39.212211\n",
       "Religious Figures/Institutions    36.828194\n",
       "Telecommunication                 46.855984\n",
       "Terrorists/Non-State Militia      33.883648\n",
       "Tourists                          58.448753\n",
       "Transportation                    52.957861\n",
       "Unknown                           32.954545\n",
       "Utilities                         49.446809\n",
       "Violent Political Party           40.852391\n",
       "Name: targtype1_txt, dtype: float64"
      ]
     },
     "execution_count": 22,
     "metadata": {},
     "output_type": "execute_result"
    }
   ],
   "source": [
    "d = data.query('iyear < 2000')\n",
    "d['targtype1_txt'].value_counts()*100/data['targtype1_txt'].value_counts()"
   ]
  },
  {
   "cell_type": "markdown",
   "id": "09f0fded",
   "metadata": {},
   "source": [
    "## Targets After the Year 2000"
   ]
  },
  {
   "cell_type": "code",
   "execution_count": 23,
   "id": "408af7da",
   "metadata": {},
   "outputs": [
    {
     "data": {
      "text/plain": [
       "Abortion Related                  17.171717\n",
       "Airports & Aircraft               25.880114\n",
       "Business                          43.904808\n",
       "Educational Institution           58.174317\n",
       "Food or Water Supply              51.807229\n",
       "Government (Diplomatic)           33.930058\n",
       "Government (General)              51.650165\n",
       "Journalists & Media               48.366013\n",
       "Maritime                          41.114983\n",
       "Military                          58.265395\n",
       "NGO                               65.463918\n",
       "Other                             84.615385\n",
       "Police                            59.031687\n",
       "Private Citizens & Property       58.089611\n",
       "Religious Figures/Institutions    61.057269\n",
       "Telecommunication                 51.724138\n",
       "Terrorists/Non-State Militia      65.487421\n",
       "Tourists                          38.504155\n",
       "Transportation                    45.542950\n",
       "Unknown                           66.193182\n",
       "Utilities                         49.617021\n",
       "Violent Political Party           58.004158\n",
       "Name: targtype1_txt, dtype: float64"
      ]
     },
     "execution_count": 23,
     "metadata": {},
     "output_type": "execute_result"
    }
   ],
   "source": [
    "d = data.query('iyear > 2000')\n",
    "d['targtype1_txt'].value_counts()*100/data['targtype1_txt'].value_counts()"
   ]
  },
  {
   "cell_type": "markdown",
   "id": "21ae9d58",
   "metadata": {},
   "source": [
    "## Thus I have successfully Performed Exploratory Data Analytics on Global Terrorism Dataset"
   ]
  }
 ],
 "metadata": {
  "kernelspec": {
   "display_name": "Python 3 (ipykernel)",
   "language": "python",
   "name": "python3"
  },
  "language_info": {
   "codemirror_mode": {
    "name": "ipython",
    "version": 3
   },
   "file_extension": ".py",
   "mimetype": "text/x-python",
   "name": "python",
   "nbconvert_exporter": "python",
   "pygments_lexer": "ipython3",
   "version": "3.9.12"
  }
 },
 "nbformat": 4,
 "nbformat_minor": 5
}
