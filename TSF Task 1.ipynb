{
 "cells": [
  {
   "cell_type": "markdown",
   "id": "01fe8fa7",
   "metadata": {},
   "source": [
    "# By: Mohamed Ashraf Ali K"
   ]
  },
  {
   "cell_type": "markdown",
   "id": "3d2e2c66",
   "metadata": {},
   "source": [
    "## Task 1: Prediction using Supervised ML"
   ]
  },
  {
   "cell_type": "markdown",
   "id": "39e353a2",
   "metadata": {},
   "source": [
    "## GRIP @ The Sparks Foundation"
   ]
  },
  {
   "cell_type": "markdown",
   "id": "ca9dfa71",
   "metadata": {},
   "source": [
    "**Importing required libraries and dataset**"
   ]
  },
  {
   "cell_type": "code",
   "execution_count": 1,
   "id": "a2c125a3",
   "metadata": {},
   "outputs": [],
   "source": [
    "import matplotlib.pyplot as plt\n",
    "import numpy as np\n",
    "import pandas as pd\n",
    "from sklearn.model_selection import train_test_split\n",
    "from sklearn import datasets, linear_model, metrics\n",
    "import seaborn as sb"
   ]
  },
  {
   "cell_type": "code",
   "execution_count": 2,
   "id": "7173f502",
   "metadata": {},
   "outputs": [
    {
     "data": {
      "text/html": [
       "<div>\n",
       "<style scoped>\n",
       "    .dataframe tbody tr th:only-of-type {\n",
       "        vertical-align: middle;\n",
       "    }\n",
       "\n",
       "    .dataframe tbody tr th {\n",
       "        vertical-align: top;\n",
       "    }\n",
       "\n",
       "    .dataframe thead th {\n",
       "        text-align: right;\n",
       "    }\n",
       "</style>\n",
       "<table border=\"1\" class=\"dataframe\">\n",
       "  <thead>\n",
       "    <tr style=\"text-align: right;\">\n",
       "      <th></th>\n",
       "      <th>Hours</th>\n",
       "      <th>Scores</th>\n",
       "    </tr>\n",
       "  </thead>\n",
       "  <tbody>\n",
       "    <tr>\n",
       "      <th>0</th>\n",
       "      <td>2.5</td>\n",
       "      <td>21</td>\n",
       "    </tr>\n",
       "    <tr>\n",
       "      <th>1</th>\n",
       "      <td>5.1</td>\n",
       "      <td>47</td>\n",
       "    </tr>\n",
       "    <tr>\n",
       "      <th>2</th>\n",
       "      <td>3.2</td>\n",
       "      <td>27</td>\n",
       "    </tr>\n",
       "    <tr>\n",
       "      <th>3</th>\n",
       "      <td>8.5</td>\n",
       "      <td>75</td>\n",
       "    </tr>\n",
       "    <tr>\n",
       "      <th>4</th>\n",
       "      <td>3.5</td>\n",
       "      <td>30</td>\n",
       "    </tr>\n",
       "  </tbody>\n",
       "</table>\n",
       "</div>"
      ],
      "text/plain": [
       "   Hours  Scores\n",
       "0    2.5      21\n",
       "1    5.1      47\n",
       "2    3.2      27\n",
       "3    8.5      75\n",
       "4    3.5      30"
      ]
     },
     "execution_count": 2,
     "metadata": {},
     "output_type": "execute_result"
    }
   ],
   "source": [
    "df = pd.read_csv('1.csv')\n",
    "df.head()"
   ]
  },
  {
   "cell_type": "code",
   "execution_count": 5,
   "id": "27f241af",
   "metadata": {},
   "outputs": [],
   "source": [
    "a = df['Hours'].values.reshape(-1,1)\n",
    "b = df['Scores'] \n",
    "\n",
    "A_train, A_test, b_train, b_test = train_test_split(a, b, test_size=0.2)"
   ]
  },
  {
   "cell_type": "markdown",
   "id": "8091c32c",
   "metadata": {},
   "source": [
    "**Training Linear Regression Model**"
   ]
  },
  {
   "cell_type": "code",
   "execution_count": 6,
   "id": "55842352",
   "metadata": {},
   "outputs": [],
   "source": [
    "reg = linear_model.LinearRegression()\n",
    "reg.fit(A_train, b_train)\n",
    "b_pred = reg.predict(A_test)"
   ]
  },
  {
   "cell_type": "markdown",
   "id": "a1b4748b",
   "metadata": {},
   "source": [
    "**Printing Accuracy and Plotting regression graph**"
   ]
  },
  {
   "cell_type": "code",
   "execution_count": 7,
   "id": "bcadb266",
   "metadata": {},
   "outputs": [
    {
     "name": "stdout",
     "output_type": "stream",
     "text": [
      "Coefficients:  [10.10371179]\n",
      "Variance score: 0.9638861677665687\n"
     ]
    }
   ],
   "source": [
    "print('Coefficients: ', reg.coef_)\n",
    "print('Variance score: {}'.format(reg.score(A_test, b_test)))"
   ]
  },
  {
   "cell_type": "code",
   "execution_count": 12,
   "id": "ce35f3a8",
   "metadata": {},
   "outputs": [
    {
     "data": {
      "text/plain": [
       "<seaborn.axisgrid.FacetGrid at 0x26c75f761c0>"
      ]
     },
     "execution_count": 12,
     "metadata": {},
     "output_type": "execute_result"
    },
    {
     "data": {
      "image/png": "[encoded data removed]",
      "text/plain": [
       "<Figure size 360x360 with 1 Axes>"
      ]
     },
     "metadata": {
      "needs_background": "light"
     },
     "output_type": "display_data"
    }
   ],
   "source": [
    "sb.lmplot(x = \"Hours\", y = \"Scores\", data = df)"
   ]
  },
  {
   "cell_type": "markdown",
   "id": "84436dc4",
   "metadata": {},
   "source": [
    "**Predicting Score value for Hours = 9.25**"
   ]
  },
  {
   "cell_type": "code",
   "execution_count": 8,
   "id": "4f83105a",
   "metadata": {},
   "outputs": [
    {
     "name": "stdout",
     "output_type": "stream",
     "text": [
      "[94.82832969]\n"
     ]
    }
   ],
   "source": [
    "print(reg.predict(np.array([9.25]).reshape(-1,1)))"
   ]
  },
  {
   "cell_type": "markdown",
   "id": "6c83d1f3",
   "metadata": {},
   "source": [
    "## Inference:\n",
    "## We observe that out variance score is 91% which is pretty accurate and we have also predicted score = 89.3% for number of hours = 9.25"
   ]
  },
  {
   "cell_type": "markdown",
   "id": "3a0d553e",
   "metadata": {},
   "source": [
    "## Conclusion:\n",
    "## Therefore I have successfully completed supervised machine learning on dataset, also graphically shown the regresression plot using seaborn"
   ]
  }
 ],
 "metadata": {
  "kernelspec": {
   "display_name": "Python 3 (ipykernel)",
   "language": "python",
   "name": "python3"
  },
  "language_info": {
   "codemirror_mode": {
    "name": "ipython",
    "version": 3
   },
   "file_extension": ".py",
   "mimetype": "text/x-python",
   "name": "python",
   "nbconvert_exporter": "python",
   "pygments_lexer": "ipython3",
   "version": "3.9.12"
  }
 },
 "nbformat": 4,
 "nbformat_minor": 5
}
