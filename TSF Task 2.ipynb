{
 "cells": [
  {
   "cell_type": "markdown",
   "id": "01fe8fa7",
   "metadata": {},
   "source": [
    "# By: Mohamed Ashraf Ali K"
   ]
  },
  {
   "cell_type": "markdown",
   "id": "3d2e2c66",
   "metadata": {},
   "source": [
    "## Task 2: Prediction using Unsupervised ML"
   ]
  },
  {
   "cell_type": "markdown",
   "id": "39e353a2",
   "metadata": {},
   "source": [
    "## GRIP @ The Sparks Foundation"
   ]
  },
  {
   "cell_type": "markdown",
   "id": "ca9dfa71",
   "metadata": {},
   "source": [
    "**Importing required libraries and dataset**"
   ]
  },
  {
   "cell_type": "code",
   "execution_count": 15,
   "id": "44a22681",
   "metadata": {},
   "outputs": [],
   "source": [
    "import pandas as pd\n",
    "import numpy as np\n",
    "import matplotlib.pyplot as plt\n",
    "from sklearn.cluster import KMeans\n",
    "from sklearn.model_selection import train_test_split # Import train_test_split function\n",
    "from sklearn import metrics #Import scikit-learn metrics module for accuracy calculation\n",
    "from sklearn import preprocessing\n",
    "from sklearn import metrics\n",
    "%matplotlib inline"
   ]
  },
  {
   "cell_type": "code",
   "execution_count": 16,
   "id": "d0e4d05b",
   "metadata": {},
   "outputs": [
    {
     "data": {
      "text/html": [
       "<div>\n",
       "<style scoped>\n",
       "    .dataframe tbody tr th:only-of-type {\n",
       "        vertical-align: middle;\n",
       "    }\n",
       "\n",
       "    .dataframe tbody tr th {\n",
       "        vertical-align: top;\n",
       "    }\n",
       "\n",
       "    .dataframe thead th {\n",
       "        text-align: right;\n",
       "    }\n",
       "</style>\n",
       "<table border=\"1\" class=\"dataframe\">\n",
       "  <thead>\n",
       "    <tr style=\"text-align: right;\">\n",
       "      <th></th>\n",
       "      <th>Id</th>\n",
       "      <th>SepalLengthCm</th>\n",
       "      <th>SepalWidthCm</th>\n",
       "      <th>PetalLengthCm</th>\n",
       "      <th>PetalWidthCm</th>\n",
       "      <th>Species</th>\n",
       "    </tr>\n",
       "  </thead>\n",
       "  <tbody>\n",
       "    <tr>\n",
       "      <th>0</th>\n",
       "      <td>1</td>\n",
       "      <td>5.1</td>\n",
       "      <td>3.5</td>\n",
       "      <td>1.4</td>\n",
       "      <td>0.2</td>\n",
       "      <td>Iris-setosa</td>\n",
       "    </tr>\n",
       "    <tr>\n",
       "      <th>1</th>\n",
       "      <td>2</td>\n",
       "      <td>4.9</td>\n",
       "      <td>3.0</td>\n",
       "      <td>1.4</td>\n",
       "      <td>0.2</td>\n",
       "      <td>Iris-setosa</td>\n",
       "    </tr>\n",
       "    <tr>\n",
       "      <th>2</th>\n",
       "      <td>3</td>\n",
       "      <td>4.7</td>\n",
       "      <td>3.2</td>\n",
       "      <td>1.3</td>\n",
       "      <td>0.2</td>\n",
       "      <td>Iris-setosa</td>\n",
       "    </tr>\n",
       "    <tr>\n",
       "      <th>3</th>\n",
       "      <td>4</td>\n",
       "      <td>4.6</td>\n",
       "      <td>3.1</td>\n",
       "      <td>1.5</td>\n",
       "      <td>0.2</td>\n",
       "      <td>Iris-setosa</td>\n",
       "    </tr>\n",
       "    <tr>\n",
       "      <th>4</th>\n",
       "      <td>5</td>\n",
       "      <td>5.0</td>\n",
       "      <td>3.6</td>\n",
       "      <td>1.4</td>\n",
       "      <td>0.2</td>\n",
       "      <td>Iris-setosa</td>\n",
       "    </tr>\n",
       "  </tbody>\n",
       "</table>\n",
       "</div>"
      ],
      "text/plain": [
       "   Id  SepalLengthCm  SepalWidthCm  PetalLengthCm  PetalWidthCm      Species\n",
       "0   1            5.1           3.5            1.4           0.2  Iris-setosa\n",
       "1   2            4.9           3.0            1.4           0.2  Iris-setosa\n",
       "2   3            4.7           3.2            1.3           0.2  Iris-setosa\n",
       "3   4            4.6           3.1            1.5           0.2  Iris-setosa\n",
       "4   5            5.0           3.6            1.4           0.2  Iris-setosa"
      ]
     },
     "execution_count": 16,
     "metadata": {},
     "output_type": "execute_result"
    }
   ],
   "source": [
    "df = pd.read_csv('2.csv')\n",
    "df.head()"
   ]
  },
  {
   "cell_type": "code",
   "execution_count": 18,
   "id": "93425e65",
   "metadata": {},
   "outputs": [],
   "source": [
    "a = df.drop(['Species'],axis=1)\n",
    "b = df['Species']\n",
    "\n",
    "label_encoder = preprocessing.LabelEncoder()\n",
    "b = label_encoder.fit_transform(b)  \n"
   ]
  },
  {
   "cell_type": "markdown",
   "id": "d75f8de5",
   "metadata": {},
   "source": [
    "**Training Unsupervised KMeans Machine Learning Model**"
   ]
  },
  {
   "cell_type": "code",
   "execution_count": 19,
   "id": "77c1db26",
   "metadata": {},
   "outputs": [
    {
     "name": "stderr",
     "output_type": "stream",
     "text": [
      "C:\\Users\\91989\\anaconda3\\lib\\site-packages\\sklearn\\cluster\\_kmeans.py:1036: UserWarning: KMeans is known to have a memory leak on Windows with MKL, when there are less chunks than available threads. You can avoid it by setting the environment variable OMP_NUM_THREADS=1.\n",
      "  warnings.warn(\n"
     ]
    }
   ],
   "source": [
    "times = 20 # Number of plot points\n",
    "inertia = []\n",
    "\n",
    "for i in range(1,times+1):\n",
    "    Km = KMeans(n_clusters=i)\n",
    "    Km = Km.fit(a)\n",
    "      \n",
    "    # Append the inertia in list for plotting  \n",
    "    inertia.append(Km.inertia_) \n",
    "    "
   ]
  },
  {
   "cell_type": "markdown",
   "id": "942e302b",
   "metadata": {},
   "source": [
    "**Elbow plot to find optimal clusters by plotting inertias**"
   ]
  },
  {
   "cell_type": "code",
   "execution_count": 20,
   "id": "a43e5275",
   "metadata": {},
   "outputs": [
    {
     "data": {
      "image/png": "[encoded data removed]",
      "text/plain": [
       "<Figure size 432x288 with 1 Axes>"
      ]
     },
     "metadata": {
      "needs_background": "light"
     },
     "output_type": "display_data"
    }
   ],
   "source": [
    "plt.plot([*range(1,times+1)], inertia,marker='o')\n",
    "\n",
    "plt.xlabel('Number of Clusters')\n",
    "plt.ylabel('Inertias')\n",
    "plt.title('Elbow Plot')  \n",
    "\n",
    "plt.show()"
   ]
  },
  {
   "cell_type": "markdown",
   "id": "aa7958e9",
   "metadata": {},
   "source": [
    "**Predicting for number of clusters = 3**"
   ]
  },
  {
   "cell_type": "code",
   "execution_count": 23,
   "id": "24253353",
   "metadata": {},
   "outputs": [],
   "source": [
    "a = df.iloc[:, [0, 1, 2, 3]].values\n",
    "b = label_encoder.fit_transform(df['Species'])  \n",
    "kmeans = KMeans(n_clusters = 3)\n",
    "y_kmeans = kmeans.fit_predict(a)  "
   ]
  },
  {
   "cell_type": "markdown",
   "id": "c6ce2c91",
   "metadata": {},
   "source": [
    "**Graphical Representation of Clusters**"
   ]
  },
  {
   "cell_type": "code",
   "execution_count": 24,
   "id": "57b7d085",
   "metadata": {},
   "outputs": [
    {
     "name": "stderr",
     "output_type": "stream",
     "text": [
      "No artists with labels found to put in legend.  Note that artists whose label start with an underscore are ignored when legend() is called with no argument.\n"
     ]
    },
    {
     "data": {
      "text/plain": [
       "<matplotlib.legend.Legend at 0x20d49992700>"
      ]
     },
     "execution_count": 24,
     "metadata": {},
     "output_type": "execute_result"
    },
    {
     "data": {
      "image/png": "[encoded data removed]",
      "text/plain": [
       "<Figure size 432x288 with 1 Axes>"
      ]
     },
     "metadata": {
      "needs_background": "light"
     },
     "output_type": "display_data"
    }
   ],
   "source": [
    "#Visualising the clusters\n",
    "plt.scatter(a[y_kmeans == 0, 0], a[y_kmeans == 0, 1], s = 100, c = 'purple')\n",
    "plt.scatter(a[y_kmeans == 1, 0], a[y_kmeans == 1, 1], s = 100, c = 'orange')\n",
    "plt.scatter(a[y_kmeans == 2, 0], a[y_kmeans == 2, 1], s = 100, c = 'green')\n",
    "\n",
    "#Plotting the centroids of the clusters\n",
    "plt.scatter(kmeans.cluster_centers_[:, 0], kmeans.cluster_centers_[:,1], s = 100, c = 'red')\n",
    "\n",
    "plt.legend()"
   ]
  },
  {
   "cell_type": "markdown",
   "id": "be7ca7aa",
   "metadata": {},
   "source": [
    "**Calculating Confusion Matrix**"
   ]
  },
  {
   "cell_type": "code",
   "execution_count": 26,
   "id": "9a3e9fdc",
   "metadata": {},
   "outputs": [
    {
     "data": {
      "text/plain": [
       "array([[ 0,  1, 49],\n",
       "       [ 1, 49,  0],\n",
       "       [50,  0,  0]], dtype=int64)"
      ]
     },
     "execution_count": 26,
     "metadata": {},
     "output_type": "execute_result"
    }
   ],
   "source": [
    "confusion_matrix = metrics.confusion_matrix(b, kmeans.labels_)\n",
    "confusion_matrix"
   ]
  },
  {
   "cell_type": "markdown",
   "id": "6c83d1f3",
   "metadata": {},
   "source": [
    "## Inference:\n",
    "## We observe that optimal number of clusters 3 and the confusion matrix plot shows (1,0,2) - Iris-versicolor,  Iris-setosa, Iris-virginica"
   ]
  },
  {
   "cell_type": "markdown",
   "id": "3a0d553e",
   "metadata": {},
   "source": [
    "## Conclusion:\n",
    "## Therefore I have successfully completed unsupervised machine learning on iris dataset, also graphically shown the clusters and calculated confusion matrix"
   ]
  }
 ],
 "metadata": {
  "kernelspec": {
   "display_name": "Python 3 (ipykernel)",
   "language": "python",
   "name": "python3"
  },
  "language_info": {
   "codemirror_mode": {
    "name": "ipython",
    "version": 3
   },
   "file_extension": ".py",
   "mimetype": "text/x-python",
   "name": "python",
   "nbconvert_exporter": "python",
   "pygments_lexer": "ipython3",
   "version": "3.9.12"
  }
 },
 "nbformat": 4,
 "nbformat_minor": 5
}
